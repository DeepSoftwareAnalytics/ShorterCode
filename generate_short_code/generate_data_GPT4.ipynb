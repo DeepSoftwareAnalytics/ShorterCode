{
 "cells": [
  {
   "cell_type": "code",
   "execution_count": 5,
   "metadata": {},
   "outputs": [],
   "source": [
    "import re"
   ]
  },
  {
   "cell_type": "code",
   "execution_count": 1,
   "metadata": {},
   "outputs": [],
   "source": [
    "system_prompt = \"\"\"\n",
    "You are an expert in code synthesis and can construct short code data according to the following steps:\n",
    "1. Generate a problem description related to the given simplification rule;\n",
    "2. Generate the corresponding code snippet for the problem description obtained in the previous step;\n",
    "3. Simplify the code according to the given simplification rule.\n",
    "\n",
    "Please refer to the given example and construct 3 new short code data that can reflect the simplification rule. Each data must contain a problem description, original code, and simplified code. And the data should be presented in the format of the example.\n",
    "\"\"\""
   ]
  },
  {
   "cell_type": "code",
   "execution_count": 2,
   "metadata": {},
   "outputs": [],
   "source": [
    "sim_rule =\"\"\"\n",
    "#Simplication rule: \n",
    "File reading or writing simplification: Use the with open() statement instead of the open() statement.\n",
    "\"\"\""
   ]
  },
  {
   "cell_type": "code",
   "execution_count": 3,
   "metadata": {},
   "outputs": [],
   "source": [
    "example = \"\"\"\n",
    "#Problem description: Read the contents of the example.txt file \n",
    "\n",
    "#Original code:\n",
    "file_path='example.txt'\n",
    "file=open(file_path, 'r')\n",
    "content=file.read()\n",
    "file.close()\n",
    "\n",
    "#Simplified code:\n",
    "file_path='example.txt'\n",
    "with open(file_path, 'r') as file:\n",
    "content=file.read()\n",
    "\"\"\""
   ]
  },
  {
   "cell_type": "code",
   "execution_count": null,
   "metadata": {},
   "outputs": [],
   "source": [
    "print(system_prompt+sim_rule+example)"
   ]
  },
  {
   "cell_type": "code",
   "execution_count": 6,
   "metadata": {},
   "outputs": [
    {
     "name": "stdout",
     "output_type": "stream",
     "text": [
      "# Simplification rule:\n",
      "Loop simplification: Use list comprehensions instead of traditional for loops for constructing lists.\n",
      "\n",
      "---\n",
      "\n",
      "# Problem description: Create a list of squares for the numbers 1 to 10\n",
      "\n",
      "# Original code:\n",
      "squares = []\n",
      "for i in range(1, 11):\n",
      "    squares.append(i * i)\n",
      "\n",
      "# Simplified code:\n",
      "squares = [i * i for i in range(1, 11)]\n",
      "\n",
      "---\n",
      "\n",
      "# Problem description: Filter out even numbers from a list of integers 1 to 20\n",
      "\n",
      "# Original code:\n",
      "numbers = list(range(1, 21))\n",
      "evens = []\n",
      "for number in numbers:\n",
      "    if number % 2 == 0:\n",
      "        evens.append(number)\n",
      "\n",
      "# Simplified code:\n",
      "numbers = list(range(1, 21))\n",
      "evens = [number for number in numbers if number % 2 == 0]\n",
      "\n",
      "---\n",
      "\n",
      "# Problem description: Convert a list of temperatures in Celsius to Fahrenheit\n",
      "\n",
      "# Original code:\n",
      "celsius_temps = [0, 20, 30, 40, 100]\n",
      "fahrenheit_temps = []\n",
      "for temp in celsius_temps:\n",
      "    fahrenheit = (temp * 9/5) + 32\n",
      "    fahrenheit_temps.append(fahrenheit)\n",
      "\n",
      "# Simplified code:\n",
      "celsius_temps = [0, 20, 30, 40, 100]\n",
      "fahrenheit_temps = [(temp * 9/5) + 32 for temp in celsius_temps]\n"
     ]
    }
   ],
   "source": [
    "from openai import OpenAI\n",
    "\n",
    "base_url = 'https://api.gptapi.us/v1/chat/completions'\n",
    "api_key = 'sk-J6KrOzSlEQgyUJ0YF2AdD3B2145a418184163bD57c846cCc'\n",
    "\n",
    "client = OpenAI(\n",
    "    api_key = api_key,\n",
    "    base_url = base_url.rstrip('/chat/completions')\n",
    ")\n",
    "\n",
    "context = system_prompt+sim_rule+example\n",
    "\n",
    "messages = [\n",
    "    # {\"role\": \"system\", \"content\": ''},\n",
    "    # {\"role\": \"assistant\", \"content\": \"\"},\n",
    "    {'role': 'user', 'content': context}\n",
    "]\n",
    "model_name = 'gpt-4o'\n",
    "chat_completion = client.chat.completions.create(\n",
    "    messages=messages,\n",
    "    model=model_name,\n",
    "    temperature=0,\n",
    "    # top_k=50,\n",
    "    # top_p=0.95,\n",
    "    # timeout=timeout,\n",
    ")\n",
    "content = chat_completion.choices[0].message.content\n",
    "print(content)"
   ]
  },
  {
   "cell_type": "code",
   "execution_count": null,
   "metadata": {},
   "outputs": [],
   "source": [
    "#先把生成的内容存到文件\n"
   ]
  },
  {
   "cell_type": "code",
   "execution_count": 33,
   "metadata": {},
   "outputs": [
    {
     "name": "stdout",
     "output_type": "stream",
     "text": [
      " Write data to a file named data.txt\n",
      "\n",
      "\n",
      "-----------\n",
      "\n",
      "file_path = 'data.txt'\n",
      "file = open(file_path, 'w')\n",
      "file.write(\"Hello, World!\")\n",
      "file.close()\n",
      "\n",
      "-----------\n",
      "\n",
      "file_path = 'data.txt'\n",
      "with open(file_path, 'w') as file:\n",
      "    file.write(\"Hello, World!\")\n",
      "\n",
      "--------------\n"
     ]
    }
   ],
   "source": [
    "\n",
    "text=\"\"\"\n",
    "### Problem 1: Write data to a file named data.txt\n",
    "\n",
    "**Original Code:**\n",
    "```python\n",
    "file_path = 'data.txt'\n",
    "file = open(file_path, 'w')\n",
    "file.write(\"Hello, World!\")\n",
    "file.close()\n",
    "```\n",
    "\n",
    "**Simplified Code:**\n",
    "```python\n",
    "file_path = 'data.txt'\n",
    "with open(file_path, 'w') as file:\n",
    "    file.write(\"Hello, World!\")\n",
    "```\n",
    "\"\"\"\n",
    "\n",
    "pattern=r\"Problem 1:(.*?)[*][*]Original Code|```python(.*?)```\"\n",
    "match = re.findall(pattern, content, re.DOTALL)\n",
    "code_text = match if match else text\n",
    "# # res = re.findall(pattern,text)\n",
    "problem=code_text[0][0]\n",
    "original_code=code_text[1][1]\n",
    "simplified_code=code_text[2][1]\n",
    "print(problem)\n",
    "print(\"-----------\")\n",
    "print(original_code)\n",
    "print(\"-----------\")\n",
    "print(simplified_code)\n",
    "print(\"--------------\")\n"
   ]
  }
 ],
 "metadata": {
  "kernelspec": {
   "display_name": "Python 3.9.10 64-bit",
   "language": "python",
   "name": "python3"
  },
  "language_info": {
   "codemirror_mode": {
    "name": "ipython",
    "version": 3
   },
   "file_extension": ".py",
   "mimetype": "text/x-python",
   "name": "python",
   "nbconvert_exporter": "python",
   "pygments_lexer": "ipython3",
   "version": "3.9.10"
  },
  "orig_nbformat": 4,
  "vscode": {
   "interpreter": {
    "hash": "6fff98fc3b3d81bd655c2cc48858186e4d9e2db7b515bf1c3221888f12a62f87"
   }
  }
 },
 "nbformat": 4,
 "nbformat_minor": 2
}
